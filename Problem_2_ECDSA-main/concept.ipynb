{
 "cells": [
  {
   "cell_type": "markdown",
   "metadata": {},
   "source": [
    "What is Elliptic Curve Cryptography:\n",
    "1. Elliptic Curve (ECs): $(y^2 = x^3 + ax + b)\n",
    "2. Finite Fields are used for computations on the curve point \n",
    "3. Base point: starting point on the curve\n",
    "4. Private and Public Keys Crypto with ECC\n",
    "* Private key is random, public key is on the curve derived from the private key \n",
    "\n",
    "\n",
    "Security Basis: \n",
    "* Given two points P and Q on the curve it is infeasible to find a scalar where Q=k*p\n",
    "\n",
    "Real World Basis: \n",
    "* The Sony ECDSA security disaster refers to a critical vulnerability in the implementation of the Elliptic Curve Digital Signature Algorithm (ECDSA) on the PlayStation 3 (PS3) gaming console. This flaw severely compromised the console's security and led to significant consequences for Sony and the gaming community.\n"
   ]
  },
  {
   "cell_type": "code",
   "execution_count": 39,
   "metadata": {},
   "outputs": [
    {
     "name": "stdout",
     "output_type": "stream",
     "text": [
      "Signature: 68384b6279e49026e39704b8a08c04a2c4384ecabd73ad194c5cd8298dd2f49f7b2e3fd60738ab6a0016a29906cf9f95\n",
      "Verification result: True\n"
     ]
    }
   ],
   "source": [
    "import ecdsa\n",
    "import os\n",
    "\n",
    "def generate_keypair():\n",
    "    # Using a weak curve (NIST192p) instead of a stronger one\n",
    "    return ecdsa.SigningKey.generate(curve=ecdsa.NIST192p)\n",
    "\n",
    "def sign_message(private_key, message):\n",
    "    fixed_nonce = b'1234567890'\n",
    "    return private_key.sign(message.encode(), k=int.from_bytes(fixed_nonce, 'big'))\n",
    "\n",
    "def verify_signature(public_key, message, signature):\n",
    "    try:\n",
    "        return public_key.verify(signature, message.encode())\n",
    "    except:\n",
    "        return False\n",
    "\n",
    "# Example usage\n",
    "private_key = generate_keypair()\n",
    "public_key = private_key.get_verifying_key()\n",
    "\n",
    "message = \"This is a secret message\"\n",
    "signature = sign_message(private_key, message)\n",
    "\n",
    "print(f\"Signature: {signature.hex()}\")\n",
    "print(f\"Verification result: {verify_signature(public_key, message, signature)}\")"
   ]
  },
  {
   "cell_type": "markdown",
   "metadata": {},
   "source": [
    "\n",
    "\n",
    "The ECDSA (Elliptic Curve Digital Signature Algorithm) works based on the mathematics of elliptic curves over finite fields:\n",
    "\n",
    "## Elliptic Curve Equation\n",
    "\n",
    "The fundamental equation for ECDSA is:\n",
    "\n",
    "y^2 = (x^3 + ax + b) mod p\n",
    "\n",
    "Where:\n",
    "- a and b are curve parameters\n",
    "- p is a large prime number (the field size)\n",
    "\n",
    "## Key Generation\n",
    "\n",
    "1. Private key: A random integer d in the range [1, n-1], where n is the order of the curve.\n",
    "2. Public key: Q = dG, where G is the generator point of the curve.\n",
    "\n",
    "## Signing Process\n",
    "\n",
    "To sign a message m:\n",
    "\n",
    "1. Calculate e = HASH(m)\n",
    "2. Generate a random nonce k in the range [1, n-1]\n",
    "3. Calculate the curve point (x_1, y_1) = kG\n",
    "4. Calculate r = x_1 mod n\n",
    "5. Calculate s = k^(-1)(e + dr) mod n\n",
    "\n",
    "The signature is the pair (r, s).\n",
    "\n",
    "## Verification Process\n",
    "\n",
    "To verify a signature (r, s) for a message m:\n",
    "\n",
    "1. Calculate e = HASH(m)\n",
    "2. Calculate w = s^(-1) mod n\n",
    "3. Calculate u_1 = ew mod n and u_2 = rw mod n\n",
    "4. Calculate the curve point (x, y) = u_1G + u_2Q\n",
    "5. The signature is valid if r ≡ x mod n\n",
    "\n",
    "## Security Principle\n",
    "\n",
    "The security of ECDSA relies on the difficulty of the Elliptic Curve Discrete Logarithm Problem (ECDLP). Given points P and Q on the curve, it's computationally infeasible to find a scalar k such that Q = kP when the curve is sufficiently large.\n"
   ]
  },
  {
   "cell_type": "markdown",
   "metadata": {},
   "source": []
  },
  {
   "cell_type": "code",
   "execution_count": 47,
   "metadata": {},
   "outputs": [
    {
     "name": "stdout",
     "output_type": "stream",
     "text": [
      "Signature 1: 68384b6279e49026e39704b8a08c04a2c4384ecabd73ad19da3eaf8e9e7a52c73f7d7cae18684d360db495f1677e5087\n",
      "Signature 2: 68384b6279e49026e39704b8a08c04a2c4384ecabd73ad19b5ad8fe07fa10030b18fc1b07feb75b83b6a32bee0da0308\n"
     ]
    }
   ],
   "source": [
    "import ecdsa\n",
    "import os\n",
    "\n",
    "def generate_keypair():\n",
    "    return ecdsa.SigningKey.generate(curve=ecdsa.NIST192p)\n",
    "\n",
    "def sign_message(private_key, message):\n",
    "    fixed_nonce = b'1234567890'\n",
    "    return private_key.sign(message.encode(), k=int.from_bytes(fixed_nonce, 'big'))\n",
    "\n",
    "def verify_signature(public_key, message, signature):\n",
    "    try:\n",
    "        return public_key.verify(signature, message.encode())\n",
    "    except:\n",
    "        return False\n",
    "\n",
    "# Generate keys and sign a message\n",
    "private_key = generate_keypair()\n",
    "public_key = private_key.get_verifying_key()\n",
    "\n",
    "message1 = \"This is message 1\"\n",
    "signature1 = sign_message(private_key, message1)\n",
    "\n",
    "message2 = \"This is message 2\"\n",
    "signature2 = sign_message(private_key, message2)\n",
    "\n",
    "print(f\"Signature 1: {signature1.hex()}\")\n",
    "print(f\"Signature 2: {signature2.hex()}\")"
   ]
  },
  {
   "cell_type": "markdown",
   "metadata": {},
   "source": [
    "\n",
    "\n",
    "s =K^-1(z + xr) mod n\n",
    "\n",
    "where: \n",
    "* k is nonce\n",
    "* z is the hash\n",
    "* x is the private key \n",
    "* n is the order of the curve \n",
    "\n",
    "s_1- s_2= k^(-1)(z_1-z_2) mod n \n",
    "\n",
    "k = (z1 - z2) * (s1 - s2)^9(-1) mod n "
   ]
  },
  {
   "cell_type": "code",
   "execution_count": 48,
   "metadata": {},
   "outputs": [
    {
     "name": "stdout",
     "output_type": "stream",
     "text": [
      "Forged message: admin\n",
      "Forged signature: 68384b6279e49026e39704b8a08c04a2c4384ecabd73ad19bafc68f5ddfa0333bde5817ea671f782086f27072039f870\n",
      "Verification of forged signature: True\n"
     ]
    }
   ],
   "source": [
    "import hashlib\n",
    "\n",
    "def forge_signature(public_key, message1, signature1, message2, signature2):\n",
    "    # Convert signatures to integers\n",
    "    r, s1 = ecdsa.util.sigdecode_string(signature1, public_key.curve.order)\n",
    "    _, s2 = ecdsa.util.sigdecode_string(signature2, public_key.curve.order)\n",
    "    \n",
    "    # Calculate the difference of message hashes\n",
    "    z1 = int.from_bytes(hashlib.sha1(message1.encode()).digest(), 'big')\n",
    "    z2 = int.from_bytes(hashlib.sha1(message2.encode()).digest(), 'big')\n",
    "    \n",
    "     # Recover the nonce (k)\n",
    "    k = ((z1 - z2) * pow(s1 - s2, -1, public_key.pubkey.order)) % public_key.pubkey.order\n",
    "    \n",
    "    # Recover the private key\n",
    "    private_key = ((s1 * k - z1) * pow(r, -1, public_key.pubkey.order)) % public_key.pubkey.order\n",
    "    \n",
    "    # Create a new signing key from the recovered private key\n",
    "    recovered_key = ecdsa.SigningKey.from_secret_exponent(private_key, curve=public_key.curve)\n",
    "    \n",
    "    return recovered_key\n",
    "\n",
    "\n",
    "# Forge a signature for any message\n",
    "forged_key = forge_signature(public_key, message1, signature1, message2, signature2)\n",
    "forged_message = \"admin\"\n",
    "forged_signature = sign_message(forged_key, forged_message)\n",
    "\n",
    "print(f\"Forged message: {forged_message}\")\n",
    "print(f\"Forged signature: {forged_signature.hex()}\")\n",
    "print(f\"Verification of forged signature: {verify_signature(public_key, forged_message, forged_signature)}\")"
   ]
  }
 ],
 "metadata": {
  "kernelspec": {
   "display_name": "Python 3",
   "language": "python",
   "name": "python3"
  },
  "language_info": {
   "codemirror_mode": {
    "name": "ipython",
    "version": 3
   },
   "file_extension": ".py",
   "mimetype": "text/x-python",
   "name": "python",
   "nbconvert_exporter": "python",
   "pygments_lexer": "ipython3",
   "version": "3.10.12"
  }
 },
 "nbformat": 4,
 "nbformat_minor": 2
}
