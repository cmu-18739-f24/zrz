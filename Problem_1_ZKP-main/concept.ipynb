{
 "cells": [
  {
   "cell_type": "code",
   "execution_count": 18,
   "metadata": {},
   "outputs": [],
   "source": [
    "import random\n",
    "from hashlib import sha256\n",
    "\n",
    "# Set a large prime number and a generator\n",
    "p = 2**255 - 19  # A large prime number (Curve25519 prime)\n",
    "g = 2  # Generator\n",
    "\n",
    "# The secret flag (this would be known only to the prover)\n",
    "secret_flag = \"CTF{ZKP_M4st3r}\""
   ]
  },
  {
   "cell_type": "code",
   "execution_count": 19,
   "metadata": {},
   "outputs": [],
   "source": [
    "class ZKPChallenge:\n",
    "    def __init__(self, secret):\n",
    "        self.secret = int.from_bytes(secret.encode(), 'big')\n",
    "        self.y = pow(g, self.secret, p)  # Public key\n",
    "\n",
    "    def commit(self):\n",
    "        self.r = random.randint(1, p-1)\n",
    "        return pow(g, self.r, p)  # Commitment\n",
    "\n",
    "    def challenge(self):\n",
    "        return random.randint(0, 1)  # Random challenge bit\n",
    "\n",
    "    def respond(self, c, t):\n",
    "        if c == 0:\n",
    "            return self.r\n",
    "        else:\n",
    "            return (self.r - self.secret * t) % (p-1)\n",
    "\n",
    "    def verify(self, c, t, commitment, response):\n",
    "        if c == 0:\n",
    "            return commitment == pow(g, response, p)\n",
    "        else:\n",
    "            return commitment == (pow(g, response, p) * pow(self.y, t, p)) % p"
   ]
  },
  {
   "cell_type": "code",
   "execution_count": 21,
   "metadata": {},
   "outputs": [
    {
     "name": "stdout",
     "output_type": "stream",
     "text": [
      "\n",
      "Round 1:\n",
      "Commitment: 5438307274786433050723540652833549139408353070229046681692237078537348547830\n",
      "Challenge: 1\n",
      "Response: 26365505204486572720758467839511351141864249290896539560373316678386599221319\n",
      "Verification: Success\n",
      "\n",
      "Round 2:\n",
      "Commitment: 56314688768599782948752275832343190195901418454472354884518583318062297284442\n",
      "Challenge: 0\n",
      "Response: 46802488719006980374831665980108437807476909179503016316718626156702344127013\n",
      "Verification: Success\n",
      "\n",
      "Round 3:\n",
      "Commitment: 28796918681484691507976280832541679075705053976470241539489214203330769441474\n",
      "Challenge: 0\n",
      "Response: 20085407847495690973159623738622835896336318744951242558812673310249269346078\n",
      "Verification: Success\n",
      "\n",
      "Round 4:\n",
      "Commitment: 1220871164042956620748758173977996340941033650065516877599033107831345245747\n",
      "Challenge: 0\n",
      "Response: 47570666067619641954394737608992059322404467840687346817924957600147179949880\n",
      "Verification: Success\n",
      "\n",
      "Round 5:\n",
      "Commitment: 45834217910083942295872544543211846161794140939080487451864538554150060022480\n",
      "Challenge: 0\n",
      "Response: 56076173928020811444772440973020408174411492381856500395183842244047050313712\n",
      "Verification: Success\n",
      "\n",
      "Round 6:\n",
      "Commitment: 47704969910213440426885858334786863658927318201855899693935707446638567359194\n",
      "Challenge: 0\n",
      "Response: 36534830740914009054503808027139130213918572211361096294957392500621966822131\n",
      "Verification: Success\n",
      "\n",
      "Round 7:\n",
      "Commitment: 46490342533943948151910532340838817459425333021234413695065983387354300586772\n",
      "Challenge: 1\n",
      "Response: 35405169517397996809464021782896201489520738696180837094669172747631775204203\n",
      "Verification: Success\n",
      "\n",
      "Round 8:\n",
      "Commitment: 15992187090005660420226125329710876619389382826203584688359228171264871672366\n",
      "Challenge: 1\n",
      "Response: 1452402686048150649987934841548727782721921362810386787986358228371322136701\n",
      "Verification: Success\n",
      "\n",
      "Round 9:\n",
      "Commitment: 9143279186991643400679074612490008561581492904633942238830291104164522782388\n",
      "Challenge: 1\n",
      "Response: 39250555085432783345603332110416704684321405271770118086509738710188450448596\n",
      "Verification: Success\n",
      "\n",
      "Round 10:\n",
      "Commitment: 53370101481155431334820693525451255788773439220191458404752678419200006828075\n",
      "Challenge: 0\n",
      "Response: 15799401272731930431735197213473154912650514964810184279237564134044325925171\n",
      "Verification: Success\n",
      "\n",
      "Overall result: Prover knows the secret\n"
     ]
    }
   ],
   "source": [
    "# Create the ZKP challenge\n",
    "zkp = ZKPChallenge(secret_flag)\n",
    "\n",
    "# Simulate multiple rounds of the protocol\n",
    "rounds = 10\n",
    "success = True\n",
    "\n",
    "for i in range(rounds):\n",
    "    print(f\"\\nRound {i+1}:\")\n",
    "    \n",
    "    # Prover commits\n",
    "    commitment = zkp.commit()\n",
    "    print(f\"Commitment: {commitment}\")\n",
    "\n",
    "    # Verifier challenges\n",
    "    c = zkp.challenge()\n",
    "    print(f\"Challenge: {c}\")\n",
    "\n",
    "    # Prover responds\n",
    "    t = random.randint(1, p-1)  # This would normally be chosen by the verifier\n",
    "    response = zkp.respond(c, t)\n",
    "    print(f\"Response: {response}\")\n",
    "\n",
    "    # Verifier verifies\n",
    "    result = zkp.verify(c, t, commitment, response)\n",
    "    print(f\"Verification: {'Success' if result else 'Failure'}\")\n",
    "    \n",
    "    success &= result\n",
    "\n",
    "print(f\"\\nOverall result: {'Prover knows the secret' if success else 'Proof failed'}\")"
   ]
  },
  {
   "cell_type": "code",
   "execution_count": null,
   "metadata": {},
   "outputs": [
    {
     "name": "stdout",
     "output_type": "stream",
     "text": [
      "commit,r:40407643617170990935184824237086482556194065058511254271855385734629916026043,5254108347621430948281865773240143224128478742956297974664900008554362915074\n"
     ]
    }
   ],
   "source": [
    "# Client commit\n",
    "import random \n",
    "def client_commit():\n",
    "    \n",
    "    p = 57896044618658097711785492504343953926634992332820282019728792003956564819949\n",
    "    g= 2\n",
    "    r = random.randint(1, p-1)\n",
    "    print(f'commit,r:{pow(g, r, p)},{r}')\n",
    "    return r\n",
    "\n",
    "secret_flag=\"CTF{ZKP_M4st3r}\"\n",
    "secret=secret_flag\n",
    "r=client_commit()"
   ]
  },
  {
   "cell_type": "code",
   "execution_count": 27,
   "metadata": {},
   "outputs": [
    {
     "data": {
      "text/plain": [
       "27847071720993460419626125606995760941056076863506309313079029536813608142077"
      ]
     },
     "execution_count": 27,
     "metadata": {},
     "output_type": "execute_result"
    }
   ],
   "source": [
    "secret=int.from_bytes(secret_flag.encode(), 'big')\n",
    "y=pow(g, secret, p)\n",
    "y"
   ]
  }
 ],
 "metadata": {
  "kernelspec": {
   "display_name": "Python 3",
   "language": "python",
   "name": "python3"
  },
  "language_info": {
   "codemirror_mode": {
    "name": "ipython",
    "version": 3
   },
   "file_extension": ".py",
   "mimetype": "text/x-python",
   "name": "python",
   "nbconvert_exporter": "python",
   "pygments_lexer": "ipython3",
   "version": "3.10.12"
  }
 },
 "nbformat": 4,
 "nbformat_minor": 2
}
